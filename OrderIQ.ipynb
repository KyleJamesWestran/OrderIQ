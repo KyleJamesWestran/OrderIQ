{
 "cells": [
  {
   "cell_type": "markdown",
   "id": "6ed1c218",
   "metadata": {},
   "source": [
    "# Order IQ\n",
    "### A smarter way to predict stock requirements\n",
    "\n",
    "---\n",
    "\n",
    "## Project Overview\n",
    "**Order IQ** is a pilot initiative to evaluate how effectively machine learning models can forecast grocery order quantities based on historical sales data. The goal is to support smarter, data-driven stock decisions for the upcoming weeks.\n",
    "\n",
    "---\n",
    "\n",
    "## Scope of Work\n",
    "\n",
    "### Data Analysis\n",
    "- Analyze the provided dataset, which includes:\n",
    "  - Store-level weekly sales data per SKU\n",
    "  - Historical order quantities per SKU\n",
    "  - Timestamps and SKU metadata\n",
    "  - Inventory on hand\n",
    "  - Ordering cadence\n",
    "\n",
    "### Model Development\n",
    "- Build a predictive model (e.g., **XGBoost**, **LightGBM**, or similar) to forecast:\n",
    "  - **Next week's SKU-level order quantities**\n",
    "  - **The following week's SKU-level order quantities**\n",
    "\n",
    "### Output Format\n",
    "- Deliver predictions in the following tabular format:\n",
    "\n"
   ]
  },
  {
   "cell_type": "markdown",
   "id": "0906e2a7",
   "metadata": {},
   "source": [
    "# Data Preparation"
   ]
  },
  {
   "cell_type": "code",
   "execution_count": null,
   "id": "07384bec",
   "metadata": {},
   "outputs": [],
   "source": []
  },
  {
   "cell_type": "markdown",
   "id": "cb41b20a",
   "metadata": {},
   "source": [
    "# Model Training"
   ]
  },
  {
   "cell_type": "code",
   "execution_count": null,
   "id": "248767f7",
   "metadata": {},
   "outputs": [],
   "source": []
  },
  {
   "cell_type": "markdown",
   "id": "03b3020e",
   "metadata": {},
   "source": [
    "# Model Prediction"
   ]
  },
  {
   "cell_type": "code",
   "execution_count": null,
   "id": "f8847230",
   "metadata": {},
   "outputs": [],
   "source": []
  }
 ],
 "metadata": {
  "kernelspec": {
   "display_name": "Python 3",
   "language": "python",
   "name": "python3"
  },
  "language_info": {
   "codemirror_mode": {
    "name": "ipython",
    "version": 3
   },
   "file_extension": ".py",
   "mimetype": "text/x-python",
   "name": "python",
   "nbconvert_exporter": "python",
   "pygments_lexer": "ipython3",
   "version": "3.11.9"
  }
 },
 "nbformat": 4,
 "nbformat_minor": 5
}
